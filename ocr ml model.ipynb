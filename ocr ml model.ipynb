{
 "cells": [
  {
   "cell_type": "code",
   "execution_count": 1,
   "id": "61d6fd3f-7128-4c94-bd7f-eab444b10bab",
   "metadata": {
    "tags": []
   },
   "outputs": [],
   "source": [
    "import cv2\n",
    "from matplotlib import pyplot as plt\n",
    "im_file = \"Downloads/image1ocr.png\" # put image url here.\n",
    "img = cv2.imread(im_file)"
   ]
  },
  {
   "cell_type": "code",
   "execution_count": 2,
   "id": "3c7bec92-03ed-496a-9a58-90e487806bf2",
   "metadata": {
    "tags": []
   },
   "outputs": [],
   "source": [
    "def display(im_path):\n",
    "    dpi = 80\n",
    "    im_data = plt.imread(im_path)\n",
    "\n",
    "    height, width  = im_data.shape[:2]\n",
    "    \n",
    "    # What size does the figure need to be in inches to fit the image?\n",
    "    figsize = width / float(dpi), height / float(dpi)\n",
    "\n",
    "    # Create a figure of the right size with one axes that takes up the full figure\n",
    "    fig = plt.figure(figsize=figsize)\n",
    "    ax = fig.add_axes([0, 0, 1, 1])\n",
    "\n",
    "    # Hide spines, ticks, etc.\n",
    "    ax.axis('off')\n",
    "\n",
    "    # Display the image.\n",
    "    ax.imshow(im_data, cmap='gray')\n",
    "\n",
    "    plt.show()"
   ]
  },
  {
   "cell_type": "code",
   "execution_count": 3,
   "id": "44c53d0f-5233-4ea4-b155-3687e5514fe2",
   "metadata": {
    "tags": []
   },
   "outputs": [
    {
     "data": {
      "text/plain": [
       "True"
      ]
     },
     "execution_count": 3,
     "metadata": {},
     "output_type": "execute_result"
    }
   ],
   "source": [
    "inverted_image = cv2.bitwise_not(img)\n",
    "cv2.imwrite(\"Downloads/inverted.jpg\", inverted_image)# storing the processed image from inversion"
   ]
  },
  {
   "cell_type": "markdown",
   "id": "7d9ced68-ec9f-4e74-8da0-890f60800ef4",
   "metadata": {},
   "source": [
    "# PREPROCESSING OF IMAGE"
   ]
  },
  {
   "cell_type": "code",
   "execution_count": 4,
   "id": "1d74544f-4a66-4bc2-9bcc-0f5ecd989151",
   "metadata": {
    "tags": []
   },
   "outputs": [],
   "source": [
    "import numpy as np\n",
    "import cv2"
   ]
  },
  {
   "cell_type": "code",
   "execution_count": 5,
   "id": "f5779179-2174-42c0-90c1-aca1d0bcf786",
   "metadata": {
    "tags": []
   },
   "outputs": [],
   "source": [
    "img1 = cv2.imread('inverted_image')"
   ]
  },
  {
   "cell_type": "markdown",
   "id": "3721e99c-e0ee-4ec4-a9d7-d8c340f52a33",
   "metadata": {
    "tags": []
   },
   "source": [
    "## GRAY SCALE IMAGE"
   ]
  },
  {
   "cell_type": "code",
   "execution_count": 6,
   "id": "36874775-9e8e-4c54-adf1-a9550c6d8654",
   "metadata": {
    "tags": []
   },
   "outputs": [],
   "source": [
    "def get_gray_scale(image):\n",
    "    return cv2.cvtcolor(image, cv2.color_BGR2GRAY)"
   ]
  },
  {
   "cell_type": "markdown",
   "id": "5cb57fd7-6ec3-49f0-8860-f4d187e54ad1",
   "metadata": {},
   "source": [
    "## NOISE REMOVAL"
   ]
  },
  {
   "cell_type": "code",
   "execution_count": 7,
   "id": "df5cb618-3787-4c4b-ac76-89d055cc5b29",
   "metadata": {
    "tags": []
   },
   "outputs": [],
   "source": [
    "def remove_noise(image):\n",
    "    return cv2.median.Blur(image, 5)"
   ]
  },
  {
   "cell_type": "markdown",
   "id": "3320d49f-509d-444c-b32e-eb2ad04ecc91",
   "metadata": {},
   "source": [
    "## THRESHOLDING"
   ]
  },
  {
   "cell_type": "code",
   "execution_count": 8,
   "id": "49249aea-0c3e-4db4-83f5-1ae9a8f3cc82",
   "metadata": {
    "tags": []
   },
   "outputs": [],
   "source": [
    "def thresholding(image):\n",
    "    return cv2.threshold(image, 0, 255, cv2.THRESH_BINARY + cv2.THRESH_OTSU)[1]"
   ]
  },
  {
   "cell_type": "markdown",
   "id": "ee69875e-f1d1-44bd-b55a-4896f69b833b",
   "metadata": {},
   "source": [
    "## DILATION"
   ]
  },
  {
   "cell_type": "code",
   "execution_count": 9,
   "id": "6b7a00f6-4f95-4ab0-8f26-379f6504bbc7",
   "metadata": {
    "tags": []
   },
   "outputs": [],
   "source": [
    "def dilate(image):\n",
    "    kernel = np.ones((5,5), np.uint8)\n",
    "    return cv2.dilate(image, kernel, iterations = 1)"
   ]
  },
  {
   "cell_type": "markdown",
   "id": "626c37fb-2828-4cb1-aa2b-84872e6d5ef1",
   "metadata": {},
   "source": [
    "## EROSION"
   ]
  },
  {
   "cell_type": "code",
   "execution_count": 10,
   "id": "28b08e7b-1151-49c1-abd9-948ab33ff378",
   "metadata": {
    "tags": []
   },
   "outputs": [],
   "source": [
    "def erode(image):\n",
    "    kernel = np.ones((5,5), np.uint8)\n",
    "    return cv2.morphologyEx(image, cv2.MORPH_OPEN, kernel)\n",
    "    "
   ]
  },
  {
   "cell_type": "markdown",
   "id": "1471ce90-bf8c-4e0e-968c-9e4ef8db622d",
   "metadata": {},
   "source": [
    "## CANNY EDGE DETECTION"
   ]
  },
  {
   "cell_type": "code",
   "execution_count": 11,
   "id": "963c5bea-780c-46f2-b07d-c8bda02ef114",
   "metadata": {
    "tags": []
   },
   "outputs": [],
   "source": [
    "def canny(image):\n",
    "    return cv2.Canny(image, 100, 200)"
   ]
  },
  {
   "cell_type": "markdown",
   "id": "9845441a-870e-4310-a88e-f92d1c93a94c",
   "metadata": {
    "tags": []
   },
   "source": [
    "## SKEW CORRECTION"
   ]
  },
  {
   "cell_type": "code",
   "execution_count": 12,
   "id": "6df34348-4bf5-40b5-bce2-d2ab63e5e40c",
   "metadata": {
    "tags": []
   },
   "outputs": [],
   "source": [
    "\n",
    "def deskew(image):\n",
    "    coords = np.column_stack(np.where(image > 0))\n",
    "    angle = cv2.minAreaRect(coords)[-1]\n",
    "    if angle < -45:\n",
    "        angle = -(90 + angle)\n",
    "    else:\n",
    "        angle = -angle\n",
    "    (h, w) = image.shape[:2]\n",
    "    center = (w // 2, h // 2)\n",
    "    M = cv2.getRotationMatrix2D(center, angle, 1.0)\n",
    "    rotated = cv2.warpAffine(image, M, (w, h), flags=cv2.INTER_CUBIC, borderMode=cv2.BORDER_REPLICATE)\n",
    "    return rotated\n"
   ]
  },
  {
   "cell_type": "markdown",
   "id": "716fba87-4417-4775-a4f2-c2c7bab258e8",
   "metadata": {},
   "source": [
    "## TEMPLATE MATCHING"
   ]
  },
  {
   "cell_type": "code",
   "execution_count": 13,
   "id": "e92b7612-4346-4b91-a295-585a92a6f7ee",
   "metadata": {
    "tags": []
   },
   "outputs": [],
   "source": [
    "def match_template(image, template):\n",
    "    return cv2.matchTemplate(image, template, cv2.TM_CCOEFF_NORMED)"
   ]
  },
  {
   "cell_type": "code",
   "execution_count": 14,
   "id": "889d629d-23b3-434d-a6d7-9bccd0e0eafc",
   "metadata": {
    "tags": []
   },
   "outputs": [
    {
     "name": "stdout",
     "output_type": "stream",
     "text": [
      "It was the best of\n",
      "times, it was the worst\n",
      "of times, it was the age\n",
      "of wisdom, it was the\n",
      "age of foolishness...\n",
      "\f",
      "\n"
     ]
    }
   ],
   "source": [
    "from PIL import Image\n",
    "import pytesseract\n",
    "\n",
    "im = Image.open(im_file)\n",
    "ocr_result = pytesseract.image_to_string(im)\n",
    "print(ocr_result)"
   ]
  },
  {
   "cell_type": "code",
   "execution_count": null,
   "id": "69b31a0b-8121-4232-9a4b-8f4a70028a15",
   "metadata": {},
   "outputs": [],
   "source": []
  }
 ],
 "metadata": {
  "kernelspec": {
   "display_name": "Python 3 (ipykernel)",
   "language": "python",
   "name": "python3"
  },
  "language_info": {
   "codemirror_mode": {
    "name": "ipython",
    "version": 3
   },
   "file_extension": ".py",
   "mimetype": "text/x-python",
   "name": "python",
   "nbconvert_exporter": "python",
   "pygments_lexer": "ipython3",
   "version": "3.11.3"
  },
  "toc-autonumbering": false,
  "toc-showcode": false,
  "toc-showmarkdowntxt": false,
  "toc-showtags": false
 },
 "nbformat": 4,
 "nbformat_minor": 5
}
